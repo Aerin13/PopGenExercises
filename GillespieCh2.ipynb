{
 "cells": [
  {
   "cell_type": "code",
   "execution_count": 98,
   "id": "creative-converter",
   "metadata": {},
   "outputs": [],
   "source": [
    "import fwdpy11\n",
    "import numpy as np\n",
    "import seaborn as sns\n",
    "import pandas\n",
    "import matplotlib.pyplot as plt\n",
    "import random\n",
    "import math"
   ]
  },
  {
   "cell_type": "markdown",
   "id": "shaped-evidence",
   "metadata": {},
   "source": [
    "#### Problem 2.2\n",
    "Recreate figure 2.1, in R and/or Python. This is, in essence, problem 2.2"
   ]
  },
  {
   "cell_type": "code",
   "execution_count": 146,
   "id": "killing-sheffield",
   "metadata": {},
   "outputs": [],
   "source": [
    "replicates = 5\n",
    "rep = 0"
   ]
  },
  {
   "cell_type": "code",
   "execution_count": 147,
   "id": "ancient-tension",
   "metadata": {},
   "outputs": [],
   "source": [
    "while rep < replicates:\n",
    "    # Simulation parameters\n",
    "    N = 20\n",
    "    simlen = 100\n",
    "    fi = 0.2\n",
    "    gen = 1\n",
    "\n",
    "    # Initialize the population of haploids\n",
    "    # 0 = ref, 1 = alt\n",
    "    pop = np.concatenate((np.zeros(int((1-fi)*N)), np.full(int(fi*N),1)), axis = 0)\n",
    "\n",
    "    # Make an array to store allele frequencies to plot later\n",
    "    freq = np.full(1, 0.2)\n",
    "\n",
    "    while gen < simlen:\n",
    "        # Make an array to hold the next generation\n",
    "        nextgen = np.empty(20)\n",
    "        # Loop until you refill the array\n",
    "        count = 0\n",
    "\n",
    "        while count < N:\n",
    "            # Select an individual at random from the current generation\n",
    "            ind = pop[math.floor(random.random()*pop.size)]\n",
    "            # Add them to the next generation\n",
    "            nextgen[count] = ind\n",
    "            count = count + 1\n",
    "\n",
    "        # Calc the allele freq for the next gen\n",
    "        unique, counts = np.unique(nextgen, return_counts=True)\n",
    "        freqs = dict(zip(unique, counts))\n",
    "        if 1 in freqs:\n",
    "            freq = np.append(freq, freqs[1]/N)\n",
    "        else:\n",
    "            freq = np.append(freq, 0)\n",
    "\n",
    "        # Set pop to be the next generation\n",
    "        pop = nextgen\n",
    "        gen = gen + 1\n",
    "    \n",
    "    # Store the allele freq trajectory for plotting\n",
    "    if rep == 0:\n",
    "        composite = freq\n",
    "    else:\n",
    "        composite = np.vstack([composite, freq])\n",
    "    rep = rep + 1"
   ]
  },
  {
   "cell_type": "code",
   "execution_count": 148,
   "id": "mounted-documentation",
   "metadata": {},
   "outputs": [
    {
     "data": {
      "text/plain": [
       "(0.0, 1.0)"
      ]
     },
     "execution_count": 148,
     "metadata": {},
     "output_type": "execute_result"
    },
    {
     "data": {
      "image/png": "[encoded data removed]",
      "text/plain": [
       "<Figure size 432x288 with 1 Axes>"
      ]
     },
     "metadata": {},
     "output_type": "display_data"
    }
   ],
   "source": [
    "# Plot the output\n",
    "fig, ax = plt.subplots(facecolor='w', edgecolor='black')\n",
    "plt.plot(composite[0], color = 'black', linewidth='0.5')\n",
    "plt.plot(composite[1], color = 'black', linewidth='0.5')\n",
    "plt.plot(composite[2], color = 'black', linewidth='0.5')\n",
    "plt.plot(composite[3], color = 'black', linewidth='0.5')\n",
    "plt.plot(composite[4], color = 'black', linewidth='0.5')\n",
    "ax.set_ymargin(0.0)\n",
    "ax.set_xmargin(0.0)\n",
    "ax.set_ylabel('Allele frequency');\n",
    "ax.set_xlabel('Generation');\n",
    "ax.set_ylim(0, 1)"
   ]
  },
  {
   "cell_type": "code",
   "execution_count": 150,
   "id": "international-basic",
   "metadata": {},
   "outputs": [
    {
     "data": {
      "text/plain": [
       "0"
      ]
     },
     "execution_count": 150,
     "metadata": {},
     "output_type": "execute_result"
    }
   ],
   "source": [
    "import os\n",
    "os.system('jupyter nbconvert --to html GillespieCh2.ipynb')"
   ]
  }
 ],
 "metadata": {
  "kernelspec": {
   "display_name": "Python 3",
   "language": "python",
   "name": "python3"
  },
  "language_info": {
   "codemirror_mode": {
    "name": "ipython",
    "version": 3
   },
   "file_extension": ".py",
   "mimetype": "text/x-python",
   "name": "python",
   "nbconvert_exporter": "python",
   "pygments_lexer": "ipython3",
   "version": "3.8.5"
  }
 },
 "nbformat": 4,
 "nbformat_minor": 5
}
